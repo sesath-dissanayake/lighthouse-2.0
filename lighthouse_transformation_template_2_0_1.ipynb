{
  "nbformat": 4,
  "nbformat_minor": 0,
  "metadata": {
    "colab": {
      "provenance": [],
      "authorship_tag": "ABX9TyOSMezchFgXv6vePMEmJLQn",
      "include_colab_link": true
    },
    "kernelspec": {
      "name": "python3",
      "display_name": "Python 3"
    },
    "language_info": {
      "name": "python"
    }
  },
  "cells": [
    {
      "cell_type": "markdown",
      "metadata": {
        "id": "view-in-github",
        "colab_type": "text"
      },
      "source": [
        "<a href=\"https://colab.research.google.com/github/sesath-dissanayake/lighthouse-2.0/blob/LIGII-182/lighthouse_transformation_template_2_0_1.ipynb\" target=\"_parent\"><img src=\"https://colab.research.google.com/assets/colab-badge.svg\" alt=\"Open In Colab\"/></a>"
      ]
    },
    {
      "cell_type": "markdown",
      "source": [
        "# We are currently in the process of migrating Lighthouse to Pyton version 3.11 and at the moment colab does not support Python 3.11 runtime.\n",
        "\n",
        "## Run the following cell to check installed Python libraries in colab runtime and if they matches our requirements.\n",
        "\n",
        "[Colab Updated to Python 3.10](https://colab.google/articles/py3.10)"
      ],
      "metadata": {
        "id": "c1ZeJGanOB_F"
      }
    },
    {
      "cell_type": "code",
      "source": [
        "import importlib.util\n",
        "\n",
        "def check_library_and_version(library_name, expected_version):\n",
        "    \"\"\"Checks if a library is installed and its version matches.\n",
        "\n",
        "    Args:\n",
        "        library_name (str): Name of the library to check.\n",
        "        expected_version (str): Expected version of the library.\n",
        "\n",
        "    Returns:\n",
        "        tuple: (bool, str):\n",
        "            - True if the library is installed and the version matches, False otherwise.\n",
        "            - String message about the result (success, mismatch, not found).\n",
        "    \"\"\"\n",
        "\n",
        "    if not importlib.util.find_spec(library_name):\n",
        "        return False, f\"❌ Library '{library_name}' not found in this runtime.\"\n",
        "\n",
        "    try:\n",
        "        library = importlib.import_module(library_name)\n",
        "        actual_version = getattr(library, \"__version__\", \"unknown\")\n",
        "        if actual_version == expected_version:\n",
        "            return True, f\"✔️ Library '{library_name}' version {actual_version} matches expected version.\"\n",
        "        else:\n",
        "            return False, f\"⚠️ Library '{library_name}' version {actual_version} does not match expected version {expected_version}.\"\n",
        "\n",
        "    except ImportError:\n",
        "        return False, f\"❌❌ ImportError: An error occurred while importing '{library_name}'.\"\n",
        "\n",
        "# Define libraries and expected versions\n",
        "libraries_and_versions = {\n",
        "    \"pandas\": \"1.5.3\",\n",
        "    \"pandas-schema\": \"0.3.4\",\n",
        "    \"multidict\": \"6.0.4\",\n",
        "    \"numpy\": \"1.23.3\",\n",
        "    \"pytz\": \"2022.6\",\n",
        "    \"lxml\": \"4.9.3\",\n",
        "    \"importlib-metadata\": \"5.1.0\",\n",
        "    \"zipp\": \"3.11.0\",\n",
        "    \"certifi\": \"2024.2.2\",\n",
        "    \"charset-normalizer\": \"3.3.2\",\n",
        "    \"idna\": \"3.6\",\n",
        "    \"urllib3\": \"2.2.1\",\n",
        "    \"requests\": \"2.31.0\",\n",
        "    \"blosc2\": \"2.0.0\",\n",
        "    \"cython\": \"0.29.21\",\n",
        "    \"msgpack\": \"1.0.5\",\n",
        "    \"numexpr\": \"2.9.0\",\n",
        "    \"packaging\": \"22.0\",\n",
        "    \"py-cpuinfo\": \"9.0.0\",\n",
        "    \"tables\": \"3.8.0\",\n",
        "}\n",
        "\n",
        "# Create a list to store results\n",
        "library_results = []\n",
        "\n",
        "for library_name, expected_version in libraries_and_versions.items():\n",
        "    result, message = check_library_and_version(library_name, expected_version)\n",
        "    library_results.append((library_name, result, message))\n",
        "\n",
        "# Print results\n",
        "for library_name, result, message in library_results:\n",
        "    print(f\"\\n{library_name}:\")\n",
        "    print(f\"{message}\")\n",
        "\n",
        "# Save results for next cell\n",
        "import pickle\n",
        "with open('library_results.pkl', 'wb') as f:\n",
        "  pickle.dump(library_results, f)"
      ],
      "metadata": {
        "id": "DWp5_uE1NpbK"
      },
      "execution_count": null,
      "outputs": []
    },
    {
      "cell_type": "markdown",
      "source": [
        "## Install required libraries"
      ],
      "metadata": {
        "id": "kN1r5NKxNrXz"
      }
    },
    {
      "cell_type": "code",
      "source": [
        "import sys\n",
        "import pickle\n",
        "\n",
        "# Load results if saved\n",
        "with open('library_results.pkl', 'rb') as f:\n",
        "  library_results = pickle.load(f)\n",
        "\n",
        "# Install libraries based on results\n",
        "\n",
        "for library_name, result, message in library_results:\n",
        "    if not result:\n",
        "        print(f\"\\n⏳ Installing library '{library_name}'...\")\n",
        "        try:\n",
        "            !pip install \"{library_name}=={libraries_and_versions[library_name]}\"\n",
        "            print(f\"✅ Successfully installed '{library_name}'!\")\n",
        "        except Exception as e:\n",
        "            print(f\"❌ Failed to install '{library_name}': {e}\")"
      ],
      "metadata": {
        "id": "-EdPbQHcNstS"
      },
      "execution_count": null,
      "outputs": []
    },
    {
      "cell_type": "markdown",
      "source": [
        "## Restart the runtime session to initialize the libraries."
      ],
      "metadata": {
        "id": "g6XN9GnBNvW1"
      }
    },
    {
      "cell_type": "code",
      "source": [
        "import os\n",
        "os.kill(os.getpid(), 9)"
      ],
      "metadata": {
        "id": "sOj08Jv_Nu9u"
      },
      "execution_count": null,
      "outputs": []
    },
    {
      "cell_type": "markdown",
      "source": [
        "# Lighthouse Transformation Scratchbook\n",
        "\n",
        "<img src=\"https://i.ibb.co/qxGXnR9/lighthouse-logo-629x500.png\" alt=\"Lighthouse\" width=\"100\"/>\n",
        "\n",
        "## Get Started\n",
        "Run the following code cells and following the instructions to get started.\n",
        "\n",
        "### **Step 1**\n",
        "Paste the Dataframe shared url generated from Lighthouse below to download and read the dataframe."
      ],
      "metadata": {
        "id": "ZB9IgXgNNxNv"
      }
    },
    {
      "cell_type": "code",
      "source": [
        "DATA_DF_URL = \"<PASTE DATA SHARE URL>\""
      ],
      "metadata": {
        "id": "rIABssoGNz10"
      },
      "execution_count": null,
      "outputs": []
    },
    {
      "cell_type": "code",
      "source": [
        "## This is to load hdf file correctly.\n",
        "!pip install tables==3.8.0"
      ],
      "metadata": {
        "id": "7_q0NHygN2PM"
      },
      "execution_count": null,
      "outputs": []
    },
    {
      "cell_type": "code",
      "source": [
        "import requests\n",
        "import pandas as pd\n",
        "import datetime as datetime\n",
        "\n",
        "r = requests.get(DATA_DF_URL, allow_redirects=True)\n",
        "\n",
        "data_filename = \"data.h5\"\n",
        "with open(data_filename, 'wb') as f:\n",
        "  f.write(r.content)\n",
        "\n",
        "data = pd.read_hdf(data_filename, 'data')\n",
        "mappings = pd.read_hdf(data_filename, 'mappings')"
      ],
      "metadata": {
        "id": "D4P85fwgO5qL"
      },
      "execution_count": null,
      "outputs": []
    },
    {
      "cell_type": "markdown",
      "source": [
        "### **Step 2**\n",
        "\n",
        "Edit the cell below to add your transformation code"
      ],
      "metadata": {
        "id": "2-s8nD_fN5M8"
      }
    },
    {
      "cell_type": "code",
      "source": [
        "def transform(data, mappings):\n",
        "  ## ....\n",
        "  ## Transformation code here\n",
        "  ## ....\n",
        "  return data"
      ],
      "metadata": {
        "id": "qXkA3kDyN61G"
      },
      "execution_count": null,
      "outputs": []
    },
    {
      "cell_type": "code",
      "source": [
        "## Test transformation\n",
        "transform(data, mappings)"
      ],
      "metadata": {
        "id": "YJSplDmzN8Sw"
      },
      "execution_count": null,
      "outputs": []
    }
  ]
}