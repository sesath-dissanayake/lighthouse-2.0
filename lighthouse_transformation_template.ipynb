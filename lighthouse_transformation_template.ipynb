{
  "nbformat": 4,
  "nbformat_minor": 0,
  "metadata": {
    "colab": {
      "provenance": [],
      "include_colab_link": true
    },
    "kernelspec": {
      "name": "python3",
      "display_name": "Python 3"
    }
  },
  "cells": [
    {
      "cell_type": "markdown",
      "metadata": {
        "id": "view-in-github",
        "colab_type": "text"
      },
      "source": [
        "<a href=\"https://colab.research.google.com/github/sesath-dissanayake/lighthouse-2.0/blob/main/lighthouse_transformation_template.ipynb\" target=\"_parent\"><img src=\"https://colab.research.google.com/assets/colab-badge.svg\" alt=\"Open In Colab\"/></a>"
      ]
    },
    {
      "cell_type": "markdown",
      "metadata": {
        "id": "ye93XeliENui"
      },
      "source": [
        "# Lighthouse Transformation Scratchbook\n",
        "\n",
        "<img src=\"https://i.ibb.co/qxGXnR9/lighthouse-logo-629x500.png\" alt=\"Lighthouse\" width=\"100\"/>\n",
        "\n",
        "## Get Started\n",
        "Run the following code cells and following the instructions to get started.\n",
        "\n",
        "### **Step 1**\n",
        "Paste the Dataframe shared url generated from Lighthouse below to download and read the dataframe."
      ]
    },
    {
      "cell_type": "code",
      "metadata": {
        "id": "M6F4dFqiCs-_"
      },
      "source": [
        "DATA_DF_URL = \"<PASTE DATA SHARE URL>\""
      ],
      "execution_count": 2,
      "outputs": []
    },
    {
      "cell_type": "markdown",
      "source": [
        "**Step** 1.1\n",
        "\n",
        "Read Data and Mappings"
      ],
      "metadata": {
        "id": "YeUwvcYZc49N"
      }
    },
    {
      "cell_type": "code",
      "metadata": {
        "id": "VGJAEvNw_UZi"
      },
      "source": [
        "import requests\n",
        "import pandas as pd\n",
        "from datetime import datetime\n",
        "import logging\n",
        "\n",
        "# Setup logging\n",
        "logging.basicConfig(level=logging.INFO, format='%(asctime)s - %(levelname)s - %(message)s')\n",
        "\n",
        "def log_and_print(message):\n",
        "    logging.info(message)\n",
        "    print(message)\n",
        "\n",
        "log_and_print(\"Starting the data retrieval process...\")\n",
        "\n",
        "# URL from which to download the data file\n",
        "log_and_print(f\"Attempting to download data from URL: {DATA_DF_URL}\")\n",
        "r = requests.get(DATA_DF_URL, allow_redirects=True)\n",
        "\n",
        "if r.status_code == 200:\n",
        "    log_and_print(\"Data downloaded successfully.\")\n",
        "else:\n",
        "    error_msg = f\"Failed to download data. Status code: {r.status_code}\"\n",
        "    logging.error(error_msg)\n",
        "    print(error_msg)\n",
        "    raise Exception(error_msg)\n",
        "\n",
        "# Saving the data to a file\n",
        "data_filename = \"data.h5\"\n",
        "log_and_print(f\"Saving downloaded data to file: {data_filename}\")\n",
        "with open(data_filename, 'wb') as f:\n",
        "    f.write(r.content)\n",
        "log_and_print(\"Data successfully saved to disk.\")\n",
        "\n",
        "# Reading the HDF5 file\n",
        "log_and_print(f\"Reading 'data' from the HDF5 file: {data_filename}\")\n",
        "try:\n",
        "    data = pd.read_hdf(data_filename, 'data')\n",
        "    log_and_print(f\"'data' loaded successfully with shape: {data.shape}\")\n",
        "except Exception as e:\n",
        "    error_msg = f\"Failed to load 'data'. Error: {str(e)}\"\n",
        "    logging.error(error_msg)\n",
        "    print(error_msg)\n",
        "    raise\n",
        "\n",
        "log_and_print(f\"Reading 'mappings' from the HDF5 file: {data_filename}\")\n",
        "try:\n",
        "    mappings = pd.read_hdf(data_filename, 'mappings')\n",
        "    log_and_print(f\"'mappings' loaded successfully with shape: {mappings.shape}\")\n",
        "except Exception as e:\n",
        "    error_msg = f\"Failed to load 'mappings'. Error: {str(e)}\"\n",
        "    logging.error(error_msg)\n",
        "    print(error_msg)\n",
        "    raise\n",
        "\n"
      ],
      "execution_count": null,
      "outputs": []
    },
    {
      "cell_type": "markdown",
      "source": [
        "**Step 1.2**\n",
        "\n",
        "Display loaded data"
      ],
      "metadata": {
        "id": "9L9BZGPddJQg"
      }
    },
    {
      "cell_type": "code",
      "source": [
        "# Displaying basic information about the data\n",
        "log_and_print(\"Displaying first few rows of 'data':\")\n",
        "print(data.head())\n",
        "\n",
        "log_and_print(\"Displaying first few rows of 'mappings':\")\n",
        "print(mappings.head())"
      ],
      "metadata": {
        "id": "jZS_4v4ucjL-"
      },
      "execution_count": null,
      "outputs": []
    },
    {
      "cell_type": "markdown",
      "metadata": {
        "id": "zfISKyugKZlG"
      },
      "source": [
        "### **Step 2**\n",
        "\n",
        "Edit the cell below to add your transformation code"
      ]
    },
    {
      "cell_type": "code",
      "metadata": {
        "id": "6klFRugxDGSq"
      },
      "source": [
        "def transform(data, mappings):\n",
        "  ## ....\n",
        "  ## Transformation code here\n",
        "  ## ....\n",
        "  return data"
      ],
      "execution_count": 7,
      "outputs": []
    },
    {
      "cell_type": "code",
      "metadata": {
        "id": "FvlTVZaIOoDD",
        "outputId": "f7c40bf0-2637-4937-80bb-a68b6042c456",
        "colab": {
          "base_uri": "https://localhost:8080/",
          "height": 89
        }
      },
      "source": [
        "## Test transformation\n",
        "transform(data, mappings)"
      ],
      "execution_count": 8,
      "outputs": [
        {
          "output_type": "execute_result",
          "data": {
            "text/plain": [
              "   indicator-id  value                  datetime\n",
              "0         27964  96.81 2024-08-21 08:00:00+01:00"
            ],
            "text/html": [
              "\n",
              "  <div id=\"df-66bc289a-8d23-435a-854b-f87c7f5c40bf\" class=\"colab-df-container\">\n",
              "    <div>\n",
              "<style scoped>\n",
              "    .dataframe tbody tr th:only-of-type {\n",
              "        vertical-align: middle;\n",
              "    }\n",
              "\n",
              "    .dataframe tbody tr th {\n",
              "        vertical-align: top;\n",
              "    }\n",
              "\n",
              "    .dataframe thead th {\n",
              "        text-align: right;\n",
              "    }\n",
              "</style>\n",
              "<table border=\"1\" class=\"dataframe\">\n",
              "  <thead>\n",
              "    <tr style=\"text-align: right;\">\n",
              "      <th></th>\n",
              "      <th>indicator-id</th>\n",
              "      <th>value</th>\n",
              "      <th>datetime</th>\n",
              "    </tr>\n",
              "  </thead>\n",
              "  <tbody>\n",
              "    <tr>\n",
              "      <th>0</th>\n",
              "      <td>27964</td>\n",
              "      <td>96.81</td>\n",
              "      <td>2024-08-21 08:00:00+01:00</td>\n",
              "    </tr>\n",
              "  </tbody>\n",
              "</table>\n",
              "</div>\n",
              "    <div class=\"colab-df-buttons\">\n",
              "\n",
              "  <div class=\"colab-df-container\">\n",
              "    <button class=\"colab-df-convert\" onclick=\"convertToInteractive('df-66bc289a-8d23-435a-854b-f87c7f5c40bf')\"\n",
              "            title=\"Convert this dataframe to an interactive table.\"\n",
              "            style=\"display:none;\">\n",
              "\n",
              "  <svg xmlns=\"http://www.w3.org/2000/svg\" height=\"24px\" viewBox=\"0 -960 960 960\">\n",
              "    <path d=\"M120-120v-720h720v720H120Zm60-500h600v-160H180v160Zm220 220h160v-160H400v160Zm0 220h160v-160H400v160ZM180-400h160v-160H180v160Zm440 0h160v-160H620v160ZM180-180h160v-160H180v160Zm440 0h160v-160H620v160Z\"/>\n",
              "  </svg>\n",
              "    </button>\n",
              "\n",
              "  <style>\n",
              "    .colab-df-container {\n",
              "      display:flex;\n",
              "      gap: 12px;\n",
              "    }\n",
              "\n",
              "    .colab-df-convert {\n",
              "      background-color: #E8F0FE;\n",
              "      border: none;\n",
              "      border-radius: 50%;\n",
              "      cursor: pointer;\n",
              "      display: none;\n",
              "      fill: #1967D2;\n",
              "      height: 32px;\n",
              "      padding: 0 0 0 0;\n",
              "      width: 32px;\n",
              "    }\n",
              "\n",
              "    .colab-df-convert:hover {\n",
              "      background-color: #E2EBFA;\n",
              "      box-shadow: 0px 1px 2px rgba(60, 64, 67, 0.3), 0px 1px 3px 1px rgba(60, 64, 67, 0.15);\n",
              "      fill: #174EA6;\n",
              "    }\n",
              "\n",
              "    .colab-df-buttons div {\n",
              "      margin-bottom: 4px;\n",
              "    }\n",
              "\n",
              "    [theme=dark] .colab-df-convert {\n",
              "      background-color: #3B4455;\n",
              "      fill: #D2E3FC;\n",
              "    }\n",
              "\n",
              "    [theme=dark] .colab-df-convert:hover {\n",
              "      background-color: #434B5C;\n",
              "      box-shadow: 0px 1px 3px 1px rgba(0, 0, 0, 0.15);\n",
              "      filter: drop-shadow(0px 1px 2px rgba(0, 0, 0, 0.3));\n",
              "      fill: #FFFFFF;\n",
              "    }\n",
              "  </style>\n",
              "\n",
              "    <script>\n",
              "      const buttonEl =\n",
              "        document.querySelector('#df-66bc289a-8d23-435a-854b-f87c7f5c40bf button.colab-df-convert');\n",
              "      buttonEl.style.display =\n",
              "        google.colab.kernel.accessAllowed ? 'block' : 'none';\n",
              "\n",
              "      async function convertToInteractive(key) {\n",
              "        const element = document.querySelector('#df-66bc289a-8d23-435a-854b-f87c7f5c40bf');\n",
              "        const dataTable =\n",
              "          await google.colab.kernel.invokeFunction('convertToInteractive',\n",
              "                                                    [key], {});\n",
              "        if (!dataTable) return;\n",
              "\n",
              "        const docLinkHtml = 'Like what you see? Visit the ' +\n",
              "          '<a target=\"_blank\" href=https://colab.research.google.com/notebooks/data_table.ipynb>data table notebook</a>'\n",
              "          + ' to learn more about interactive tables.';\n",
              "        element.innerHTML = '';\n",
              "        dataTable['output_type'] = 'display_data';\n",
              "        await google.colab.output.renderOutput(dataTable, element);\n",
              "        const docLink = document.createElement('div');\n",
              "        docLink.innerHTML = docLinkHtml;\n",
              "        element.appendChild(docLink);\n",
              "      }\n",
              "    </script>\n",
              "  </div>\n",
              "\n",
              "\n",
              "  <div id=\"id_9cc83270-a2b2-49c6-9eb5-70d8f554a65e\">\n",
              "    <style>\n",
              "      .colab-df-generate {\n",
              "        background-color: #E8F0FE;\n",
              "        border: none;\n",
              "        border-radius: 50%;\n",
              "        cursor: pointer;\n",
              "        display: none;\n",
              "        fill: #1967D2;\n",
              "        height: 32px;\n",
              "        padding: 0 0 0 0;\n",
              "        width: 32px;\n",
              "      }\n",
              "\n",
              "      .colab-df-generate:hover {\n",
              "        background-color: #E2EBFA;\n",
              "        box-shadow: 0px 1px 2px rgba(60, 64, 67, 0.3), 0px 1px 3px 1px rgba(60, 64, 67, 0.15);\n",
              "        fill: #174EA6;\n",
              "      }\n",
              "\n",
              "      [theme=dark] .colab-df-generate {\n",
              "        background-color: #3B4455;\n",
              "        fill: #D2E3FC;\n",
              "      }\n",
              "\n",
              "      [theme=dark] .colab-df-generate:hover {\n",
              "        background-color: #434B5C;\n",
              "        box-shadow: 0px 1px 3px 1px rgba(0, 0, 0, 0.15);\n",
              "        filter: drop-shadow(0px 1px 2px rgba(0, 0, 0, 0.3));\n",
              "        fill: #FFFFFF;\n",
              "      }\n",
              "    </style>\n",
              "    <button class=\"colab-df-generate\" onclick=\"generateWithVariable('data')\"\n",
              "            title=\"Generate code using this dataframe.\"\n",
              "            style=\"display:none;\">\n",
              "\n",
              "  <svg xmlns=\"http://www.w3.org/2000/svg\" height=\"24px\"viewBox=\"0 0 24 24\"\n",
              "       width=\"24px\">\n",
              "    <path d=\"M7,19H8.4L18.45,9,17,7.55,7,17.6ZM5,21V16.75L18.45,3.32a2,2,0,0,1,2.83,0l1.4,1.43a1.91,1.91,0,0,1,.58,1.4,1.91,1.91,0,0,1-.58,1.4L9.25,21ZM18.45,9,17,7.55Zm-12,3A5.31,5.31,0,0,0,4.9,8.1,5.31,5.31,0,0,0,1,6.5,5.31,5.31,0,0,0,4.9,4.9,5.31,5.31,0,0,0,6.5,1,5.31,5.31,0,0,0,8.1,4.9,5.31,5.31,0,0,0,12,6.5,5.46,5.46,0,0,0,6.5,12Z\"/>\n",
              "  </svg>\n",
              "    </button>\n",
              "    <script>\n",
              "      (() => {\n",
              "      const buttonEl =\n",
              "        document.querySelector('#id_9cc83270-a2b2-49c6-9eb5-70d8f554a65e button.colab-df-generate');\n",
              "      buttonEl.style.display =\n",
              "        google.colab.kernel.accessAllowed ? 'block' : 'none';\n",
              "\n",
              "      buttonEl.onclick = () => {\n",
              "        google.colab.notebook.generateWithVariable('data');\n",
              "      }\n",
              "      })();\n",
              "    </script>\n",
              "  </div>\n",
              "\n",
              "    </div>\n",
              "  </div>\n"
            ],
            "application/vnd.google.colaboratory.intrinsic+json": {
              "type": "dataframe",
              "variable_name": "data",
              "summary": "{\n  \"name\": \"data\",\n  \"rows\": 1,\n  \"fields\": [\n    {\n      \"column\": \"indicator-id\",\n      \"properties\": {\n        \"dtype\": \"int32\",\n        \"num_unique_values\": 1,\n        \"samples\": [\n          27964\n        ],\n        \"semantic_type\": \"\",\n        \"description\": \"\"\n      }\n    },\n    {\n      \"column\": \"value\",\n      \"properties\": {\n        \"dtype\": \"number\",\n        \"std\": null,\n        \"min\": 96.81,\n        \"max\": 96.81,\n        \"num_unique_values\": 1,\n        \"samples\": [\n          96.81\n        ],\n        \"semantic_type\": \"\",\n        \"description\": \"\"\n      }\n    },\n    {\n      \"column\": \"datetime\",\n      \"properties\": {\n        \"dtype\": \"date\",\n        \"min\": \"2024-08-21 08:00:00+01:00\",\n        \"max\": \"2024-08-21 08:00:00+01:00\",\n        \"num_unique_values\": 1,\n        \"samples\": [\n          \"2024-08-21 08:00:00+01:00\"\n        ],\n        \"semantic_type\": \"\",\n        \"description\": \"\"\n      }\n    }\n  ]\n}"
            }
          },
          "metadata": {},
          "execution_count": 8
        }
      ]
    }
  ]
}