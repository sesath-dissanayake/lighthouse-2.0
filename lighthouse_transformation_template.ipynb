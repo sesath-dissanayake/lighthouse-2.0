{
  "nbformat": 4,
  "nbformat_minor": 0,
  "metadata": {
    "colab": {
      "provenance": [],
      "include_colab_link": true
    },
    "kernelspec": {
      "name": "python3",
      "display_name": "Python 3"
    }
  },
  "cells": [
    {
      "cell_type": "markdown",
      "metadata": {
        "id": "view-in-github",
        "colab_type": "text"
      },
      "source": [
        "<a href=\"https://colab.research.google.com/github/sesath-dissanayake/lighthouse-2.0/blob/main/lighthouse_transformation_template.ipynb\" target=\"_parent\"><img src=\"https://colab.research.google.com/assets/colab-badge.svg\" alt=\"Open In Colab\"/></a>"
      ]
    },
    {
      "cell_type": "markdown",
      "metadata": {
        "id": "ye93XeliENui"
      },
      "source": [
        "# Lighthouse Transformation Scratchbook\n",
        "\n",
        "<img src=\"https://i.ibb.co/qxGXnR9/lighthouse-logo-629x500.png\" alt=\"Lighthouse\" width=\"100\"/>\n",
        "\n",
        "## Get Started\n",
        "Run the following code cells and following the instructions to get started.\n",
        "\n",
        "### **Step 1**\n",
        "Paste the Dataframe shared url generated from Lighthouse below to download and read the dataframe."
      ]
    },
    {
      "cell_type": "code",
      "metadata": {
        "id": "M6F4dFqiCs-_"
      },
      "source": [
        "DATA_DF_URL = \"<PASTE DATA SHARE URL>\""
      ],
      "execution_count": null,
      "outputs": []
    },
    {
      "cell_type": "code",
      "metadata": {
        "id": "T__iRJK2XMKt"
      },
      "source": [
        "## This is to load hdf file correctly.\n",
        "!pip install tables==3.8.0"
      ],
      "execution_count": null,
      "outputs": []
    },
    {
      "cell_type": "code",
      "metadata": {
        "id": "VGJAEvNw_UZi"
      },
      "source": [
        "import requests\n",
        "import pandas as pd\n",
        "from datetime import datetime\n",
        "\n",
        "r = requests.get(DATA_DF_URL, allow_redirects=True)\n",
        "\n",
        "data_filename = \"data.h5\"\n",
        "with open(data_filename, 'wb') as f:\n",
        "  f.write(r.content)\n",
        "\n",
        "data = pd.read_hdf(data_filename, 'data')\n",
        "mappings = pd.read_hdf(data_filename, 'mappings')"
      ],
      "execution_count": null,
      "outputs": []
    },
    {
      "cell_type": "markdown",
      "metadata": {
        "id": "zfISKyugKZlG"
      },
      "source": [
        "### **Step 2**\n",
        "\n",
        "Edit the cell below to add your transformation code"
      ]
    },
    {
      "cell_type": "code",
      "metadata": {
        "id": "6klFRugxDGSq"
      },
      "source": [
        "def transform(data, mappings):\n",
        "  ## ....\n",
        "  ## Transformation code here\n",
        "  ## ....\n",
        "  return data"
      ],
      "execution_count": null,
      "outputs": []
    },
    {
      "cell_type": "code",
      "metadata": {
        "id": "FvlTVZaIOoDD"
      },
      "source": [
        "## Test transformation\n",
        "transform(data, mappings)"
      ],
      "execution_count": null,
      "outputs": []
    }
  ]
}